{
  "cells": [
    {
      "cell_type": "markdown",
      "metadata": {
        "id": "view-in-github",
        "colab_type": "text"
      },
      "source": [
        "<a href=\"https://colab.research.google.com/github/CeNe-99/Algorithms-for-massive-datasets-studyproject/blob/main/Finding_similar_items.ipynb\" target=\"_parent\"><img src=\"https://colab.research.google.com/assets/colab-badge.svg\" alt=\"Open In Colab\"/></a>"
      ]
    },
    {
      "cell_type": "markdown",
      "metadata": {
        "id": "y-gBwMHBBuHd"
      },
      "source": [
        "**Downloading and unziping the dataset.**"
      ]
    },
    {
      "cell_type": "code",
      "execution_count": 1,
      "metadata": {
        "colab": {
          "base_uri": "https://localhost:8080/"
        },
        "id": "hYFC89okzJPd",
        "outputId": "35fa1786-fa4b-4884-a349-ed4a222d86df"
      },
      "outputs": [
        {
          "output_type": "stream",
          "name": "stdout",
          "text": [
            "Dataset URL: https://www.kaggle.com/datasets/mohamedbakhet/amazon-books-reviews\n",
            "License(s): CC0-1.0\n",
            "Downloading amazon-books-reviews.zip to /content\n",
            " 99% 1.05G/1.06G [00:04<00:00, 156MB/s]\n",
            "100% 1.06G/1.06G [00:04<00:00, 266MB/s]\n",
            "Archive:  amazon-books-reviews.zip\n",
            "  inflating: Books_rating.csv        \n",
            "  inflating: books_data.csv          \n"
          ]
        }
      ],
      "source": [
        "import os\n",
        "os.environ['KAGGLE_USERNAME'] = \"XXXX\"\n",
        "os.environ['KAGGLE_KEY'] = \"XXXXX\"\n",
        "!kaggle datasets download -d mohamedbakhet/amazon-books-reviews\n",
        "!unzip amazon-books-reviews.zip\n"
      ]
    },
    {
      "cell_type": "code",
      "execution_count": 2,
      "metadata": {
        "colab": {
          "base_uri": "https://localhost:8080/"
        },
        "id": "qEWP9_dMB1-A",
        "outputId": "0702e2a1-e089-4b62-8dcc-5d8186eee4cd"
      },
      "outputs": [
        {
          "output_type": "stream",
          "name": "stdout",
          "text": [
            "Collecting datasketch\n",
            "  Downloading datasketch-1.6.5-py3-none-any.whl.metadata (5.8 kB)\n",
            "Requirement already satisfied: numpy>=1.11 in /usr/local/lib/python3.11/dist-packages (from datasketch) (2.0.2)\n",
            "Requirement already satisfied: scipy>=1.0.0 in /usr/local/lib/python3.11/dist-packages (from datasketch) (1.15.3)\n",
            "Downloading datasketch-1.6.5-py3-none-any.whl (89 kB)\n",
            "\u001b[2K   \u001b[90m━━━━━━━━━━━━━━━━━━━━━━━━━━━━━━━━━━━━━━━━\u001b[0m \u001b[32m89.2/89.2 kB\u001b[0m \u001b[31m3.7 MB/s\u001b[0m eta \u001b[36m0:00:00\u001b[0m\n",
            "\u001b[?25hInstalling collected packages: datasketch\n",
            "Successfully installed datasketch-1.6.5\n"
          ]
        }
      ],
      "source": [
        "import multiprocess as mp\n",
        "import pandas as pd\n",
        "import re\n",
        "import gc\n",
        "!pip install datasketch\n",
        "import datasketch as ds\n",
        "from sklearn.feature_extraction.text import ENGLISH_STOP_WORDS\n",
        "from tqdm import tqdm\n",
        "import random\n",
        "import zlib\n",
        "from collections import defaultdict\n",
        "import time\n",
        "import numpy as np\n",
        "import matplotlib.pyplot as plt"
      ]
    },
    {
      "cell_type": "markdown",
      "metadata": {
        "id": "J2w_4Bs6DMNV"
      },
      "source": [
        "**Gloable varible for sample size and settings**"
      ]
    },
    {
      "cell_type": "code",
      "execution_count": 3,
      "metadata": {
        "id": "bo8VBY8bB-tH"
      },
      "outputs": [],
      "source": [
        "# if True use only SAMPLE_SIZE else use whole dataset\n",
        "USE_SAMPLE = False\n",
        "# size of used samples\n",
        "SAMPLE_SIZE = 1000\n",
        "\n",
        "# MinHash, LSH & k-Shingle configuration\n",
        "NUM_PERM = 128\n",
        "SHINGLE_SIZE = 2\n",
        "\n",
        "# Threshold for LSH similarity\n",
        "LSH_THRESHOLD = 0.4\n"
      ]
    },
    {
      "cell_type": "markdown",
      "metadata": {
        "id": "zAu6V-ZaDkc1"
      },
      "source": [
        "**Defining Class for MinHash and LSH**"
      ]
    },
    {
      "cell_type": "code",
      "execution_count": 4,
      "metadata": {
        "id": "moXmIGH_DrxY"
      },
      "outputs": [],
      "source": [
        "class MinHash:\n",
        "    \"\"\"\n",
        "    MinHash class.\n",
        "\n",
        "    This class implements the MinHash algorithm to create a signature\n",
        "    for a document, represented by a set of shingles.\n",
        "    \"\"\"\n",
        "    def __init__(self, num_perm=128, seed=42):\n",
        "        \"\"\"\n",
        "        Initializes a MinHash object.\n",
        "\n",
        "        Args:\n",
        "            num_perm (int): The number of permutations (hash functions)\n",
        "            seed (int): The seed for the random number generator\n",
        "        \"\"\"\n",
        "        # Number of permutations (hash functions)\n",
        "        self.num_perm = num_perm\n",
        "        # Maximum value for a 32-bit unsigned integer\n",
        "        self.max_hash = (1 << 32) - 1\n",
        "        # Initialize the signature with the maximum possible hash value for each permutation.\n",
        "        self.signature = [self.max_hash] * num_perm\n",
        "        # Seed for the random number generator to ensure reproducibility of hash functions\n",
        "        self.seed = seed\n",
        "        # Generate the hash functions used for creating the MinHash signature.\n",
        "        self.hash_funcs = self._generate_hash_functions()\n",
        "\n",
        "    def _generate_hash_functions(self) -> list[callable]:\n",
        "        \"\"\"\n",
        "        Generates a list of hash functions.\n",
        "\n",
        "        Each function is of the form (ax + b) % max_hash, where a and b\n",
        "        are randomly generated constants.\n",
        "\n",
        "        Returns:\n",
        "            List[Callable]: A list of hash functions.\n",
        "        \"\"\"\n",
        "        # Set random seed\n",
        "        random.seed(self.seed)\n",
        "        funcs = []\n",
        "        # Generate 'num_perm' number of hash functions.\n",
        "        for _ in range(self.num_perm):\n",
        "            # Generate random parameters 'a' and 'b'\n",
        "            # 'a' is chosen from 1 to max_hash, and 'b' from 0 to max_hash.\n",
        "            a = random.randint(1, self.max_hash)\n",
        "            b = random.randint(0, self.max_hash)\n",
        "            # Append a lambda function that represents the hash function (ax + b) % max_hash.\n",
        "            funcs.append(lambda x, a=a, b=b: (a * x + b) % self.max_hash)\n",
        "        return funcs\n",
        "\n",
        "    def update(self, shingles: set[str]):\n",
        "        \"\"\"\n",
        "        Updates the MinHash signature based on a set of shingles.\n",
        "\n",
        "        Args:\n",
        "            shingles (Set[str]): The set of shingles to use for updating the signature.\n",
        "        \"\"\"\n",
        "        # Iterate through each shingle in the set.\n",
        "        for shingle in shingles:\n",
        "            # Compute a 32-bit CRC (Cyclic Redundancy Check) hash for the shingle\n",
        "            # and convert into positive value.\n",
        "            shingle_hash = zlib.crc32(shingle.encode(\"utf-8\")) & 0xffffffff\n",
        "            # Iterate through each hash function and its corresponding signature element.\n",
        "            for i, func in enumerate(self.hash_funcs):\n",
        "                # Apply the current hash function to the shingle's hash value.\n",
        "                val = func(shingle_hash)\n",
        "                # If the resulting hash value is smaller than the current signature element,\n",
        "                # update the signature element.\n",
        "                if val < self.signature[i]:\n",
        "                    self.signature[i] = val\n",
        "\n",
        "\n",
        "class MinHashLSH:\n",
        "    \"\"\"\n",
        "    MinHash LSH (Locality Sensitive Hashing) class for finding approximate nearest neighbors.\n",
        "\n",
        "    It implements LSH using MinHash signatures to group similar documents into the same buckets.\n",
        "    \"\"\"\n",
        "    def __init__(self, threshold: float = 0.8, num_perm: int = 128):\n",
        "        \"\"\"\n",
        "        Initializes the MinHashLSH object.\n",
        "\n",
        "        Args:\n",
        "            threshold (float): The Jaccard similarity threshold above which documents are considered similar.\n",
        "            num_perm (int): The number of permutations used in the MinHash signatures.\n",
        "        \"\"\"\n",
        "        # Similarity threshold above which two documents are considered similar\n",
        "        self.threshold = threshold\n",
        "        # Number of permutations = length of the MinHash signature\n",
        "        self.num_perm = num_perm\n",
        "        # Determine the optimal number of bands and rows per band\n",
        "        self.bands, self.rows_per_band = self._optimal_lsh_params()\n",
        "        # Create one bucket dictionary per band to group similar signatures\n",
        "        self.buckets = [defaultdict(list) for _ in range(self.bands)]\n",
        "        # Store all inserted MinHash objects for later comparison\n",
        "        self.data = {}\n",
        "\n",
        "    def _optimal_lsh_params(self) -> tuple[int, int]:\n",
        "        \"\"\"\n",
        "        Calculates optimal LSH parameters (bands and rows per band) to maximize the probability\n",
        "        of a pair of documents with similarity >= threshold colliding in at least one bucket.\n",
        "\n",
        "        Returns:\n",
        "            Tuple[int, int]: A tuple containing the optimal number of bands and rows per band.\n",
        "        \"\"\"\n",
        "        # Goal: choose b (bands) and r (rows per band) to best approximate the threshold\n",
        "        best_diff = float('inf')\n",
        "        best_b, best_r = 1, self.num_perm\n",
        "\n",
        "        for b in range(1, self.num_perm + 1):\n",
        "            # b needs to be a whole divider\n",
        "            if self.num_perm % b != 0:\n",
        "                continue\n",
        "            r = self.num_perm // b\n",
        "            # Approximate threshold\n",
        "            approx_thresh = (1 / b) ** (1 / r)\n",
        "            # calculate diffreance of approximate threshold and given threshold\n",
        "            diff = abs(approx_thresh - self.threshold)\n",
        "            # store if the diff is smaler than the previost ones\n",
        "            if diff < best_diff:\n",
        "                best_diff = diff\n",
        "                best_b, best_r = b, r\n",
        "\n",
        "        return best_b, best_r\n",
        "\n",
        "    def _hash_band(self, band: tuple) -> int:\n",
        "        \"\"\"\n",
        "        Hashes a band to determine which bucket it belongs to.\n",
        "\n",
        "        Args:\n",
        "            band (tuple): A tuple containing a portion of a MinHash signature.\n",
        "\n",
        "        Returns:\n",
        "            int: The hash value for the band.\n",
        "        \"\"\"\n",
        "        # Convert the band tuple into bytes and apply a hash function (CRC32)\n",
        "        band_bytes = str(band).encode('utf-8')\n",
        "        return zlib.crc32(band_bytes) & 0xffffffff\n",
        "\n",
        "    def insert(self, doc_id: str, minhash: MinHash):\n",
        "        \"\"\"\n",
        "        Inserts a document's MinHash signature into the LSH index.\n",
        "\n",
        "        Args:\n",
        "            doc_id (str): The unique identifier for the document.\n",
        "            minhash (MinHash): The MinHash signature of the document.\n",
        "        \"\"\"\n",
        "        # Store the MinHash object for future comparison\n",
        "        self.data[doc_id] = minhash\n",
        "\n",
        "        # Go through all bands and insert band hashes into corresponding buckets\n",
        "        for band_idx in range(self.bands):\n",
        "            # Calculate the start and end index for this band in the minhash signature\n",
        "            start = band_idx * self.rows_per_band\n",
        "            end = start + self.rows_per_band\n",
        "\n",
        "            # Extract the part of the signature corresponding to this band\n",
        "            band = tuple(minhash.signature[start:end])\n",
        "\n",
        "            # Hash the band to get a bucket ID\n",
        "            hash_val = self._hash_band(band)\n",
        "\n",
        "            # Add the document ID to the appropriate bucket\n",
        "            self.buckets[band_idx][hash_val].append(doc_id)\n",
        "\n",
        "    def query(self, minhash: MinHash) -> list[str]:\n",
        "        \"\"\"\n",
        "        Queries the LSH index to find documents that are potentially similar to the given MinHash signature.\n",
        "\n",
        "        Args:\n",
        "            minhash (MinHash): The MinHash signature of the query document.\n",
        "\n",
        "        Returns:\n",
        "            List[str]: A list of document IDs that are likely similar to the query document.\n",
        "        \"\"\"\n",
        "        # Find all candidate documents that share at least one band with the input\n",
        "        candidates = set()\n",
        "        for band_idx in range(self.bands):\n",
        "            # Calculate the start and end index for this band in the minhash signature\n",
        "            start = band_idx * self.rows_per_band\n",
        "            end = start + self.rows_per_band\n",
        "            # Extract the part of the signature corresponding to this band\n",
        "            band = tuple(minhash.signature[start:end])\n",
        "            # Hash the band to get a bucket ID\n",
        "            hash_val = self._hash_band(band)\n",
        "\n",
        "            # Add all documents in the same bucket to the candidates\n",
        "            candidates.update(self.buckets[band_idx].get(hash_val, []))\n",
        "\n",
        "        # Compare actual similarity with all candidates using Jaccard similarity\n",
        "        similar_items = []\n",
        "        for doc_id in candidates:\n",
        "            other = self.data[doc_id]\n",
        "            if self._jaccard(minhash.signature, other.signature) >= self.threshold:\n",
        "                similar_items.append(doc_id)\n",
        "\n",
        "        return similar_items\n",
        "\n",
        "    def _jaccard(self, sig1: list[int], sig2: list[int]) -> float:\n",
        "        \"\"\"\n",
        "        Calculates the Jaccard similarity between two MinHash signatures.\n",
        "\n",
        "        Args:\n",
        "            sig1 (List[int]): The first MinHash signature.\n",
        "            sig2 (List[int]): The second MinHash signature.\n",
        "\n",
        "        Returns:\n",
        "            float: The Jaccard similarity between the two signatures.\n",
        "        \"\"\"\n",
        "        # Calculate Jaccard similarity between two MinHash signatures\n",
        "        assert len(sig1) == len(sig2)\n",
        "        return sum(1 for a, b in zip(sig1, sig2) if a == b) / len(sig1)"
      ]
    },
    {
      "cell_type": "markdown",
      "metadata": {
        "id": "LLXwhinDJzXi"
      },
      "source": [
        "**Defining funktions:**"
      ]
    },
    {
      "cell_type": "code",
      "execution_count": 5,
      "metadata": {
        "id": "8da2b17bCurG"
      },
      "outputs": [],
      "source": [
        "def load_reviews(filepath: str) -> list[str]:\n",
        "    \"\"\"\n",
        "    Loads reviews from a CSV file. Depending on the global USE_SAMPLE flag,\n",
        "    it either loads the full dataset or just a sample of the specified size.\n",
        "    Frees memory by deleting the DataFrame after extracting the review texts.\n",
        "\n",
        "    Args:\n",
        "        filepath (str): Path to the CSV file.\n",
        "\n",
        "    Returns:\n",
        "        List[str]: A list of review texts (full or sampled).\n",
        "    \"\"\"\n",
        "\n",
        "    # Load only a sample of the data if USE_SAMPLE is True\n",
        "    if USE_SAMPLE:\n",
        "        # Read only the first SAMPLE_SIZE rows from the CSV to save time and memory\n",
        "        df = pd.read_csv(filepath, usecols=[\"review/text\"], nrows=SAMPLE_SIZE)\n",
        "    else:\n",
        "        # Read the full dataset if sampling is not enabled\n",
        "        df = pd.read_csv(filepath, usecols=[\"review/text\"])\n",
        "\n",
        "    # Drop any rows where the review text is missing\n",
        "    df.dropna(inplace=True)\n",
        "\n",
        "    # Convert the DataFrame column to a list of strings\n",
        "    reviews = df['review/text'].tolist()\n",
        "\n",
        "    # Delete the DataFrame to free up RAM\n",
        "    del df\n",
        "    # trigger garbage collection to release memory\n",
        "    gc.collect()\n",
        "\n",
        "    return reviews\n",
        "\n",
        "\n",
        "def preprocess_and_shingle(text: str) -> set[str]:\n",
        "    \"\"\"\n",
        "    Preprocesses the input text and creates k-shingles the shingle size depends\n",
        "    on the global SHINGLE_SIZE.\n",
        "\n",
        "    Args:\n",
        "        text (str): The input text to be preprocessed and shingled.\n",
        "\n",
        "    Returns:\n",
        "        Set[str]: A set of k-shingles created from the preprocessed text.\n",
        "    \"\"\"\n",
        "    # Convert the text to lowercase\n",
        "    text = text.lower()\n",
        "    # Find all word tokens\n",
        "    tokens = re.findall(r'\\b\\w+\\b', text)\n",
        "    # Filter out tokens that are digits or are in the list of English stop words.\n",
        "    tokens = [t for t in tokens if not t.isdigit() and t not in ENGLISH_STOP_WORDS]\n",
        "    # Create k-shingles of size SHINGLE_SIZE\n",
        "    shingles = set([' '.join(tokens[i:i+SHINGLE_SIZE]) for i in range(len(tokens)-SHINGLE_SIZE+1)])\n",
        "    return shingles\n",
        "\n",
        "\n",
        "def create_minhash(shingles: set[str]) -> MinHash:\n",
        "    \"\"\"\n",
        "    Creates a MinHash signature for a set of shingles.\n",
        "\n",
        "    Args:\n",
        "        shingles (Set[str]): A set of shingles.\n",
        "\n",
        "    Returns:\n",
        "        MinHash: The MinHash signature.\n",
        "    \"\"\"\n",
        "    # Initialize a MinHash object with the specified number of permutations\n",
        "    m = MinHash(num_perm=NUM_PERM)\n",
        "    # Update the MinHash signature using the input set of shingles\n",
        "    m.update(shingles)\n",
        "\n",
        "    return m\n",
        "\n",
        "\n",
        "def process_review(text: str) -> MinHash:\n",
        "    \"\"\"\n",
        "    Processes a single review to generate its MinHash signature.\n",
        "\n",
        "    This function is designed to be used with multiprocessing to parallelize\n",
        "    the preprocessing and the MinHash creation process.\n",
        "\n",
        "    Args:\n",
        "        text (str): Review text.\n",
        "\n",
        "    Returns:\n",
        "        MinHash: The MinHash signature for the review.\n",
        "    \"\"\"\n",
        "    # Preprocess the review text and convert it into a set of shingles\n",
        "    shingles = preprocess_and_shingle(text)\n",
        "    # Create a MinHash signature from the set of shingles\n",
        "    return create_minhash(shingles)\n",
        "\n",
        "\n",
        "def finding_similar_items(filepath: str) -> dict[str, list[str]]:\n",
        "    \"\"\"\n",
        "    Finds similar items in a list of reviews using MinHash and LSH.\n",
        "\n",
        "    Args:\n",
        "        filepath (str): Path to the CSV file with reviews.\n",
        "\n",
        "    Returns:\n",
        "        Dict[str, List[str]]: Dictionary mapping doc IDs to lists of similar doc IDs.\n",
        "    \"\"\"\n",
        "    # Load the reviews from the file\n",
        "    reviews = load_reviews(filepath)\n",
        "\n",
        "    # Create MinHash signatures in parallel\n",
        "    with mp.Pool(processes=mp.cpu_count()) as pool:\n",
        "        minhashes: list[MinHash] = list(tqdm(pool.imap(process_review, reviews), total=len(reviews)))\n",
        "\n",
        "    # Initialize LSH with internal threshold logic\n",
        "    lsh = MinHashLSH(threshold=LSH_THRESHOLD, num_perm=NUM_PERM)\n",
        "\n",
        "    # Insert each document's MinHash into LSH\n",
        "    for i, mh in enumerate(minhashes):\n",
        "        lsh.insert(f\"doc_{i}\", mh)\n",
        "\n",
        "    # Initialize an empty dictionary to store the results of similar items.\n",
        "    # The keys will be document IDs, and the values will be lists of similar document IDs.\n",
        "    similar_dict: dict[str, list[str]] = {}\n",
        "\n",
        "    # Iterate through each review to find its similar documents in the LSH index.\n",
        "    for i in range(len(reviews)):\n",
        "        doc_id = f\"doc_{i}\"\n",
        "        # Query the LSH index with the MinHash signature of the current document to find potential similar documents.\n",
        "        result = lsh.query(minhashes[i])\n",
        "\n",
        "        # Filter the query results to exclude the document itself\n",
        "        similar_docs = [r for r in result if r != doc_id]\n",
        "\n",
        "        # If any similar documents are found for the current document, add them to the similar_dict.\n",
        "        if similar_docs:\n",
        "            similar_dict[doc_id] = similar_docs\n",
        "\n",
        "    return similar_dict"
      ]
    },
    {
      "cell_type": "markdown",
      "metadata": {
        "id": "yirf7g1dCvPV"
      },
      "source": [
        "**Finding similar items**"
      ]
    },
    {
      "cell_type": "code",
      "execution_count": null,
      "metadata": {
        "id": "7M2RKtwAEafA",
        "colab": {
          "base_uri": "https://localhost:8080/"
        },
        "outputId": "6255d4b3-7eb4-4e4a-ddf9-65d717bee70b"
      },
      "outputs": [
        {
          "output_type": "stream",
          "name": "stderr",
          "text": [
            "  1%|          | 36175/2999992 [12:14<25:49:53, 31.87it/s]"
          ]
        }
      ],
      "source": [
        "# Finding similar items by using selfwritten classes\n",
        "result_dict = finding_similar_items(\"Books_rating.csv\")\n",
        "# print found similar items\n",
        "print_similar_docs_with_text(result_dict, \"Books_rating.csv\", list(result_dict.keys())[:3])\n",
        "\n",
        "# Finding similar items by using  classes from datasketch\n",
        "result_dict_ds = finding_similar_items_ds(\"Books_rating.csv\")\n",
        "# print found similar items\n",
        "print_similar_docs_with_text(result_dict_ds, \"Books_rating.csv\", list(result_dict_ds.keys())[:3])\n"
      ]
    },
    {
      "cell_type": "markdown",
      "source": [
        "**Functions for visualisation**"
      ],
      "metadata": {
        "id": "SOI0VGx_lV3q"
      }
    },
    {
      "cell_type": "code",
      "source": [
        "def print_similar_docs_with_text(similar_dict: dict[str, list[str]], filepath: str, doc_ids: str | list[str], max_chars: int = 300):\n",
        "    \"\"\"\n",
        "    Loads reviews, maps document IDs to review texts, and prints the text for specified doc_ids and their similar documents.\n",
        "\n",
        "    Args:\n",
        "        similar_dict (dict): Dictionary with {doc_id: [similar doc_ids]}.\n",
        "        filepath (str): Path to the CSV file to load review texts from.\n",
        "        doc_ids (str or list): One or more document IDs (e.g., 'doc_12' or ['doc_12', 'doc_25']).\n",
        "        max_chars (int): Maximum number of characters to display from each review.\n",
        "    \"\"\"\n",
        "    # Load reviews from file\n",
        "    reviews = load_reviews(filepath)\n",
        "\n",
        "    # Build doc_id to review text mapping\n",
        "    id_to_text = {f\"doc_{i}\": text for i, text in enumerate(reviews)}\n",
        "\n",
        "    # Normalize input to a list\n",
        "    if isinstance(doc_ids, str):\n",
        "        doc_ids = [doc_ids]\n",
        "\n",
        "    for doc_id in doc_ids:\n",
        "        print(f\"\\nDocument: {doc_id}\")\n",
        "        original_text = id_to_text.get(doc_id, \"[Text not found]\")\n",
        "        print(f\"Review Text:\\n{original_text[:max_chars]}...\\n\")\n",
        "\n",
        "        similar_ids = similar_dict.get(doc_id)\n",
        "        if similar_ids:\n",
        "            print(\"Similar Documents:\")\n",
        "            for i, sim_id in enumerate(similar_ids, 1):\n",
        "                sim_text = id_to_text.get(sim_id, \"[Text not found]\")\n",
        "                print(f\"  {i}. {sim_id}\")\n",
        "                print(f\"     {sim_text[:max_chars]}...\\n\")\n",
        "        else:\n",
        "            print(\"  ➤ No similar documents found.\")\n",
        "\n",
        "\n",
        "def plot_benchmark_comparison(results: dict[int, dict[str, float]]):\n",
        "    \"\"\"\n",
        "    Plots benchmark comparison results of two functions as line charts,\n",
        "    skipping the first three x-axis ticks for clarity.\n",
        "\n",
        "    Args:\n",
        "        results (dict):\n",
        "            Dictionary mapping sample size (int) to dict with keys 'custom' and 'ds'\n",
        "            and values average durations (float in seconds).\n",
        "    \"\"\"\n",
        "    # Sort results by sample size\n",
        "    sorted_items = sorted(results.items())\n",
        "    sample_sizes = [k for k, _ in sorted_items]\n",
        "    durations_custom = [v['custom'] / 60 for _, v in sorted_items]  # convert to minutes\n",
        "    durations_ds = [v['ds'] / 60 for _, v in sorted_items]\n",
        "\n",
        "    # X ticks: skip first 3 but always show first tick\n",
        "    ticks_to_show = [sample_sizes[0]] + sample_sizes[3:]\n",
        "\n",
        "    plt.figure(figsize=(10, 6))\n",
        "\n",
        "    # Plot both results\n",
        "    plt.plot(sample_sizes, durations_custom, marker='o', linestyle='-', color='royalblue', label='finding_similar_items')\n",
        "    plt.plot(sample_sizes, durations_ds, marker='x', linestyle='--', color='darkorange', label='finding_similar_items_ds')\n",
        "\n",
        "    plt.xlabel('Sample size (number of reviews)')\n",
        "    plt.ylabel('Average duration (minutes)')\n",
        "    plt.grid(True)\n",
        "\n",
        "    plt.xticks(ticks_to_show, rotation=45)\n",
        "    plt.legend()\n",
        "    plt.tight_layout()\n",
        "    plt.show()\n",
        "\n",
        "\n"
      ],
      "metadata": {
        "id": "b9hnAj87oSmQ"
      },
      "execution_count": 6,
      "outputs": []
    },
    {
      "cell_type": "markdown",
      "source": [
        "**Benchmark function**"
      ],
      "metadata": {
        "id": "G25F5WZ4lpyq"
      }
    },
    {
      "cell_type": "code",
      "execution_count": null,
      "metadata": {
        "id": "EsDXl_3zjtXt",
        "colab": {
          "base_uri": "https://localhost:8080/"
        },
        "outputId": "5d36990d-0671-4cfc-90f4-1650dafddb0e"
      },
      "outputs": [
        {
          "output_type": "stream",
          "name": "stdout",
          "text": [
            "\n",
            "Benchmarking with sample size: 100 for 3 runs...\n",
            "  Run 1/3 for finding_similar_items...\n"
          ]
        },
        {
          "output_type": "stream",
          "name": "stderr",
          "text": [
            "100%|██████████| 100/100 [00:01<00:00, 88.33it/s]\n"
          ]
        },
        {
          "output_type": "stream",
          "name": "stdout",
          "text": [
            "    Run 1 finished in 1.34 seconds.\n",
            "  Run 1/3 for finding_similar_items_ds...\n"
          ]
        },
        {
          "output_type": "stream",
          "name": "stderr",
          "text": [
            "100%|██████████| 100/100 [00:00<00:00, 360.80it/s]\n"
          ]
        },
        {
          "output_type": "stream",
          "name": "stdout",
          "text": [
            "    Run 1 finished in 0.54 seconds.\n",
            "  Run 2/3 for finding_similar_items...\n"
          ]
        },
        {
          "output_type": "stream",
          "name": "stderr",
          "text": [
            "100%|██████████| 100/100 [00:01<00:00, 90.00it/s]\n"
          ]
        },
        {
          "output_type": "stream",
          "name": "stdout",
          "text": [
            "    Run 2 finished in 1.37 seconds.\n",
            "  Run 2/3 for finding_similar_items_ds...\n"
          ]
        },
        {
          "output_type": "stream",
          "name": "stderr",
          "text": [
            "100%|██████████| 100/100 [00:00<00:00, 366.35it/s]\n"
          ]
        },
        {
          "output_type": "stream",
          "name": "stdout",
          "text": [
            "    Run 2 finished in 0.56 seconds.\n",
            "  Run 3/3 for finding_similar_items...\n"
          ]
        },
        {
          "output_type": "stream",
          "name": "stderr",
          "text": [
            "100%|██████████| 100/100 [00:01<00:00, 90.14it/s]\n"
          ]
        },
        {
          "output_type": "stream",
          "name": "stdout",
          "text": [
            "    Run 3 finished in 1.34 seconds.\n",
            "  Run 3/3 for finding_similar_items_ds...\n"
          ]
        },
        {
          "output_type": "stream",
          "name": "stderr",
          "text": [
            "100%|██████████| 100/100 [00:00<00:00, 295.92it/s]\n"
          ]
        },
        {
          "output_type": "stream",
          "name": "stdout",
          "text": [
            "    Run 3 finished in 0.61 seconds.\n",
            "Finished sample size 100. Average durations:\n",
            "  finding_similar_items: 1.35 seconds\n",
            "  finding_similar_items_ds: 0.57 seconds\n",
            "\n",
            "\n",
            "Benchmarking with sample size: 500 for 3 runs...\n",
            "  Run 1/3 for finding_similar_items...\n"
          ]
        },
        {
          "output_type": "stream",
          "name": "stderr",
          "text": [
            "100%|██████████| 500/500 [00:11<00:00, 44.42it/s]\n"
          ]
        },
        {
          "output_type": "stream",
          "name": "stdout",
          "text": [
            "    Run 1 finished in 11.61 seconds.\n",
            "  Run 1/3 for finding_similar_items_ds...\n"
          ]
        },
        {
          "output_type": "stream",
          "name": "stderr",
          "text": [
            "100%|██████████| 500/500 [00:01<00:00, 352.68it/s]\n"
          ]
        },
        {
          "output_type": "stream",
          "name": "stdout",
          "text": [
            "    Run 1 finished in 1.81 seconds.\n",
            "  Run 2/3 for finding_similar_items...\n"
          ]
        },
        {
          "output_type": "stream",
          "name": "stderr",
          "text": [
            "100%|██████████| 500/500 [00:09<00:00, 53.47it/s]\n"
          ]
        },
        {
          "output_type": "stream",
          "name": "stdout",
          "text": [
            "    Run 2 finished in 9.73 seconds.\n",
            "  Run 2/3 for finding_similar_items_ds...\n"
          ]
        },
        {
          "output_type": "stream",
          "name": "stderr",
          "text": [
            "100%|██████████| 500/500 [00:01<00:00, 257.94it/s]\n"
          ]
        },
        {
          "output_type": "stream",
          "name": "stdout",
          "text": [
            "    Run 2 finished in 2.37 seconds.\n",
            "  Run 3/3 for finding_similar_items...\n"
          ]
        },
        {
          "output_type": "stream",
          "name": "stderr",
          "text": [
            "100%|██████████| 500/500 [00:07<00:00, 64.43it/s]\n"
          ]
        },
        {
          "output_type": "stream",
          "name": "stdout",
          "text": [
            "    Run 3 finished in 8.03 seconds.\n",
            "  Run 3/3 for finding_similar_items_ds...\n"
          ]
        },
        {
          "output_type": "stream",
          "name": "stderr",
          "text": [
            "100%|██████████| 500/500 [00:01<00:00, 379.65it/s]\n"
          ]
        },
        {
          "output_type": "stream",
          "name": "stdout",
          "text": [
            "    Run 3 finished in 1.69 seconds.\n",
            "Finished sample size 500. Average durations:\n",
            "  finding_similar_items: 9.79 seconds\n",
            "  finding_similar_items_ds: 1.96 seconds\n",
            "\n",
            "\n",
            "Benchmarking with sample size: 1000 for 3 runs...\n",
            "  Run 1/3 for finding_similar_items...\n"
          ]
        },
        {
          "output_type": "stream",
          "name": "stderr",
          "text": [
            "100%|██████████| 1000/1000 [00:15<00:00, 64.18it/s]\n"
          ]
        },
        {
          "output_type": "stream",
          "name": "stdout",
          "text": [
            "    Run 1 finished in 15.94 seconds.\n",
            "  Run 1/3 for finding_similar_items_ds...\n"
          ]
        },
        {
          "output_type": "stream",
          "name": "stderr",
          "text": [
            "100%|██████████| 1000/1000 [00:02<00:00, 364.93it/s]\n"
          ]
        },
        {
          "output_type": "stream",
          "name": "stdout",
          "text": [
            "    Run 1 finished in 3.30 seconds.\n",
            "  Run 2/3 for finding_similar_items...\n"
          ]
        },
        {
          "output_type": "stream",
          "name": "stderr",
          "text": [
            "100%|██████████| 1000/1000 [00:18<00:00, 55.00it/s]\n"
          ]
        },
        {
          "output_type": "stream",
          "name": "stdout",
          "text": [
            "    Run 2 finished in 18.67 seconds.\n",
            "  Run 2/3 for finding_similar_items_ds...\n"
          ]
        },
        {
          "output_type": "stream",
          "name": "stderr",
          "text": [
            "100%|██████████| 1000/1000 [00:03<00:00, 306.68it/s]\n"
          ]
        },
        {
          "output_type": "stream",
          "name": "stdout",
          "text": [
            "    Run 2 finished in 3.91 seconds.\n",
            "  Run 3/3 for finding_similar_items...\n"
          ]
        },
        {
          "output_type": "stream",
          "name": "stderr",
          "text": [
            "100%|██████████| 1000/1000 [00:15<00:00, 65.37it/s]\n"
          ]
        },
        {
          "output_type": "stream",
          "name": "stdout",
          "text": [
            "    Run 3 finished in 15.65 seconds.\n",
            "  Run 3/3 for finding_similar_items_ds...\n"
          ]
        },
        {
          "output_type": "stream",
          "name": "stderr",
          "text": [
            "100%|██████████| 1000/1000 [00:02<00:00, 369.24it/s]\n"
          ]
        },
        {
          "output_type": "stream",
          "name": "stdout",
          "text": [
            "    Run 3 finished in 3.27 seconds.\n",
            "Finished sample size 1000. Average durations:\n",
            "  finding_similar_items: 16.75 seconds\n",
            "  finding_similar_items_ds: 3.49 seconds\n",
            "\n",
            "\n",
            "Benchmarking with sample size: 5000 for 3 runs...\n",
            "  Run 1/3 for finding_similar_items...\n"
          ]
        },
        {
          "output_type": "stream",
          "name": "stderr",
          "text": [
            "100%|██████████| 5000/5000 [01:23<00:00, 59.95it/s]\n"
          ]
        },
        {
          "output_type": "stream",
          "name": "stdout",
          "text": [
            "    Run 1 finished in 84.92 seconds.\n",
            "  Run 1/3 for finding_similar_items_ds...\n"
          ]
        },
        {
          "output_type": "stream",
          "name": "stderr",
          "text": [
            "100%|██████████| 5000/5000 [00:22<00:00, 224.23it/s]\n"
          ]
        },
        {
          "output_type": "stream",
          "name": "stdout",
          "text": [
            "    Run 1 finished in 24.52 seconds.\n",
            "  Run 2/3 for finding_similar_items...\n"
          ]
        },
        {
          "output_type": "stream",
          "name": "stderr",
          "text": [
            "100%|██████████| 5000/5000 [01:14<00:00, 66.91it/s]\n"
          ]
        },
        {
          "output_type": "stream",
          "name": "stdout",
          "text": [
            "    Run 2 finished in 76.36 seconds.\n",
            "  Run 2/3 for finding_similar_items_ds...\n"
          ]
        },
        {
          "output_type": "stream",
          "name": "stderr",
          "text": [
            "100%|██████████| 5000/5000 [00:17<00:00, 283.89it/s]\n"
          ]
        },
        {
          "output_type": "stream",
          "name": "stdout",
          "text": [
            "    Run 2 finished in 20.24 seconds.\n",
            "  Run 3/3 for finding_similar_items...\n"
          ]
        },
        {
          "output_type": "stream",
          "name": "stderr",
          "text": [
            "100%|██████████| 5000/5000 [01:20<00:00, 61.74it/s]\n"
          ]
        },
        {
          "output_type": "stream",
          "name": "stdout",
          "text": [
            "    Run 3 finished in 82.74 seconds.\n",
            "  Run 3/3 for finding_similar_items_ds...\n"
          ]
        },
        {
          "output_type": "stream",
          "name": "stderr",
          "text": [
            "100%|██████████| 5000/5000 [00:15<00:00, 314.04it/s]\n"
          ]
        },
        {
          "output_type": "stream",
          "name": "stdout",
          "text": [
            "    Run 3 finished in 18.04 seconds.\n",
            "Finished sample size 5000. Average durations:\n",
            "  finding_similar_items: 81.34 seconds\n",
            "  finding_similar_items_ds: 20.93 seconds\n",
            "\n",
            "\n",
            "Benchmarking with sample size: 10000 for 3 runs...\n",
            "  Run 1/3 for finding_similar_items...\n"
          ]
        },
        {
          "output_type": "stream",
          "name": "stderr",
          "text": [
            "100%|██████████| 10000/10000 [02:26<00:00, 68.49it/s]\n"
          ]
        },
        {
          "output_type": "stream",
          "name": "stdout",
          "text": [
            "    Run 1 finished in 149.32 seconds.\n",
            "  Run 1/3 for finding_similar_items_ds...\n"
          ]
        },
        {
          "output_type": "stream",
          "name": "stderr",
          "text": [
            "100%|██████████| 10000/10000 [00:33<00:00, 301.47it/s]\n"
          ]
        },
        {
          "output_type": "stream",
          "name": "stdout",
          "text": [
            "    Run 1 finished in 37.34 seconds.\n",
            "  Run 2/3 for finding_similar_items...\n"
          ]
        },
        {
          "output_type": "stream",
          "name": "stderr",
          "text": [
            "100%|██████████| 10000/10000 [02:18<00:00, 72.22it/s]\n"
          ]
        },
        {
          "output_type": "stream",
          "name": "stdout",
          "text": [
            "    Run 2 finished in 142.28 seconds.\n",
            "  Run 2/3 for finding_similar_items_ds...\n"
          ]
        },
        {
          "output_type": "stream",
          "name": "stderr",
          "text": [
            "100%|██████████| 10000/10000 [00:32<00:00, 309.37it/s]\n"
          ]
        },
        {
          "output_type": "stream",
          "name": "stdout",
          "text": [
            "    Run 2 finished in 36.62 seconds.\n",
            "  Run 3/3 for finding_similar_items...\n"
          ]
        },
        {
          "output_type": "stream",
          "name": "stderr",
          "text": [
            "100%|██████████| 10000/10000 [02:20<00:00, 71.00it/s]\n"
          ]
        },
        {
          "output_type": "stream",
          "name": "stdout",
          "text": [
            "    Run 3 finished in 144.46 seconds.\n",
            "  Run 3/3 for finding_similar_items_ds...\n"
          ]
        },
        {
          "output_type": "stream",
          "name": "stderr",
          "text": [
            "100%|██████████| 10000/10000 [00:41<00:00, 238.47it/s]\n"
          ]
        },
        {
          "output_type": "stream",
          "name": "stdout",
          "text": [
            "    Run 3 finished in 47.42 seconds.\n",
            "Finished sample size 10000. Average durations:\n",
            "  finding_similar_items: 145.36 seconds\n",
            "  finding_similar_items_ds: 40.46 seconds\n",
            "\n",
            "\n",
            "Benchmarking with sample size: 20000 for 3 runs...\n",
            "  Run 1/3 for finding_similar_items...\n"
          ]
        },
        {
          "output_type": "stream",
          "name": "stderr",
          "text": [
            "100%|██████████| 20000/20000 [04:49<00:00, 69.03it/s]\n"
          ]
        },
        {
          "output_type": "stream",
          "name": "stdout",
          "text": [
            "    Run 1 finished in 293.13 seconds.\n",
            "  Run 1/3 for finding_similar_items_ds...\n"
          ]
        },
        {
          "output_type": "stream",
          "name": "stderr",
          "text": [
            "100%|██████████| 20000/20000 [01:04<00:00, 311.74it/s]\n"
          ]
        },
        {
          "output_type": "stream",
          "name": "stdout",
          "text": [
            "    Run 1 finished in 73.62 seconds.\n",
            "  Run 2/3 for finding_similar_items...\n"
          ]
        },
        {
          "output_type": "stream",
          "name": "stderr",
          "text": [
            "100%|██████████| 20000/20000 [04:39<00:00, 71.51it/s]\n"
          ]
        },
        {
          "output_type": "stream",
          "name": "stdout",
          "text": [
            "    Run 2 finished in 283.73 seconds.\n",
            "  Run 2/3 for finding_similar_items_ds...\n"
          ]
        },
        {
          "output_type": "stream",
          "name": "stderr",
          "text": [
            "100%|██████████| 20000/20000 [01:05<00:00, 303.45it/s]\n"
          ]
        },
        {
          "output_type": "stream",
          "name": "stdout",
          "text": [
            "    Run 2 finished in 74.14 seconds.\n",
            "  Run 3/3 for finding_similar_items...\n"
          ]
        },
        {
          "output_type": "stream",
          "name": "stderr",
          "text": [
            "100%|██████████| 20000/20000 [04:38<00:00, 71.84it/s]\n"
          ]
        },
        {
          "output_type": "stream",
          "name": "stdout",
          "text": [
            "    Run 3 finished in 282.09 seconds.\n",
            "  Run 3/3 for finding_similar_items_ds...\n"
          ]
        },
        {
          "output_type": "stream",
          "name": "stderr",
          "text": [
            "100%|██████████| 20000/20000 [01:03<00:00, 315.84it/s]\n"
          ]
        },
        {
          "output_type": "stream",
          "name": "stdout",
          "text": [
            "    Run 3 finished in 72.56 seconds.\n",
            "Finished sample size 20000. Average durations:\n",
            "  finding_similar_items: 286.32 seconds\n",
            "  finding_similar_items_ds: 73.44 seconds\n",
            "\n"
          ]
        }
      ],
      "source": [
        "def benchmark(filepath: str, sample_sizes: list[int], num_runs: int = 3) -> dict[int, dict[str, float]]:\n",
        "    \"\"\"\n",
        "    Benchmarks the finding_similar_items and finding_similar_items_ds functions with various sample sizes.\n",
        "\n",
        "    Args:\n",
        "        filepath (str): Path to the CSV file containing review texts.\n",
        "        sample_sizes (list[int]): List of sample sizes to test.\n",
        "        num_runs (int): Number of times to repeat each sample size for averaging.\n",
        "\n",
        "    Returns:\n",
        "        dict[int, dict[str, float]]: Mapping from sample size to dict with average runtimes in seconds for each function.\n",
        "            Example:\n",
        "            {\n",
        "                100: {'custom': 12.5, 'ds': 10.8},\n",
        "                500: {'custom': 58.1, 'ds': 52.7},\n",
        "                ...\n",
        "            }\n",
        "    \"\"\"\n",
        "    global USE_SAMPLE, SAMPLE_SIZE\n",
        "    results = {}\n",
        "\n",
        "    for size in sample_sizes:\n",
        "        durations_custom = []\n",
        "        durations_ds = []\n",
        "\n",
        "        print(f\"\\nBenchmarking with sample size: {size} for {num_runs} runs...\")\n",
        "\n",
        "        USE_SAMPLE = True\n",
        "        SAMPLE_SIZE = size\n",
        "\n",
        "        for run in range(num_runs):\n",
        "            print(f\"  Run {run + 1}/{num_runs} for finding_similar_items...\")\n",
        "            start_time = time.time()\n",
        "            finding_similar_items(filepath)\n",
        "            end_time = time.time()\n",
        "            duration_custom = end_time - start_time\n",
        "            durations_custom.append(duration_custom)\n",
        "            print(f\"    Run {run + 1} finished in {duration_custom:.2f} seconds.\")\n",
        "\n",
        "            print(f\"  Run {run + 1}/{num_runs} for finding_similar_items_ds...\")\n",
        "            start_time = time.time()\n",
        "            finding_similar_items_ds(filepath)\n",
        "            end_time = time.time()\n",
        "            duration_ds = end_time - start_time\n",
        "            durations_ds.append(duration_ds)\n",
        "            print(f\"    Run {run + 1} finished in {duration_ds:.2f} seconds.\")\n",
        "\n",
        "        avg_custom = np.mean(durations_custom)\n",
        "        avg_ds = np.mean(durations_ds)\n",
        "\n",
        "        results[size] = {\n",
        "            'custom': avg_custom,\n",
        "            'ds': avg_ds\n",
        "        }\n",
        "\n",
        "        print(f\"Finished sample size {size}. Average durations:\")\n",
        "        print(f\"  finding_similar_items: {avg_custom:.2f} seconds\")\n",
        "        print(f\"  finding_similar_items_ds: {avg_ds:.2f} seconds\\n\")\n",
        "\n",
        "    return results\n",
        "\n",
        "# start benchmark\n",
        "bench_sizes = [100, 500, 1000, 5000, 10000, 20000]\n",
        "benchmark_results = benchmark(\"Books_rating.csv\",bench_sizes)"
      ]
    },
    {
      "cell_type": "markdown",
      "source": [
        "**Plot results**"
      ],
      "metadata": {
        "id": "UD72ilBCojBF"
      }
    },
    {
      "cell_type": "code",
      "source": [
        "plot_benchmark_comparison(benchmark_results)"
      ],
      "metadata": {
        "colab": {
          "base_uri": "https://localhost:8080/",
          "height": 607
        },
        "id": "M-F7hAJEiXZW",
        "outputId": "e900fe90-8059-46b0-e16f-dd36aebcebcc"
      },
      "execution_count": null,
      "outputs": [
        {
          "output_type": "display_data",
          "data": {
            "text/plain": [
              "<Figure size 1000x600 with 1 Axes>"
            ],
            "image/png": "[encoded data removed]"
          },
          "metadata": {}
        }
      ]
    },
    {
      "cell_type": "markdown",
      "source": [
        "**Functions with datasketch**"
      ],
      "metadata": {
        "id": "dmwklYXfl_9S"
      }
    },
    {
      "cell_type": "code",
      "source": [
        "def create_minhash_ds(shingles: set[str]) -> MinHash:\n",
        "    \"\"\"\n",
        "    Creates a MinHash signature for a set of shingles.\n",
        "\n",
        "    Args:\n",
        "        shingles (Set[str]): A set of shingles.\n",
        "\n",
        "    Returns:\n",
        "        MinHash: The MinHash signature.\n",
        "    \"\"\"\n",
        "    # Initialize a MinHash object with the specified number of permutations\n",
        "    m = ds.MinHash(num_perm=NUM_PERM)\n",
        "\n",
        "    # Update the MinHash signature using the input set of shingles\n",
        "    for shingle in shingles:\n",
        "        m.update(shingle.encode('utf8'))\n",
        "    return m\n",
        "\n",
        "\n",
        "def process_review_ds(text: str) -> MinHash:\n",
        "    \"\"\"\n",
        "    Processes a single review to generate its MinHash signature.\n",
        "\n",
        "    This function is designed to be used with multiprocessing to parallelize\n",
        "    the preprocessing and the MinHash creation process.\n",
        "\n",
        "    Args:\n",
        "        text (str): Review text.\n",
        "\n",
        "    Returns:\n",
        "        MinHash: The MinHash signature for the review.\n",
        "    \"\"\"\n",
        "    # Preprocess the review text and convert it into a set of shingles\n",
        "    shingles = preprocess_and_shingle(text)\n",
        "     # Create a MinHash signature from the set of shingles\n",
        "    return create_minhash_ds(shingles)\n",
        "\n",
        "\n",
        "def finding_similar_items_ds(filepath: str) -> dict[str, list[str]]:\n",
        "    \"\"\"\n",
        "    Finds similar items in a list of reviews using MinHash and LSH.\n",
        "\n",
        "    Args:\n",
        "        reviews (List[str]): List of review texts.\n",
        "\n",
        "    Returns:\n",
        "        Dict[str, List[str]]: Dictionary mapping doc IDs to lists of similar doc IDs.\n",
        "    \"\"\"\n",
        "    # Load the reviews from the specified file path.\n",
        "    reviews = load_reviews(filepath)\n",
        "\n",
        "    # Use a multiprocessing pool to process reviews in parallel.\n",
        "    with mp.Pool(processes=mp.cpu_count()) as pool:\n",
        "        # Create MinHash signatures using multiprocessing\n",
        "        minhashes: list[MinHash] = list(tqdm(pool.imap(process_review_ds, reviews), total=len(reviews)))\n",
        "\n",
        "    # Initialize a MinHash LSH (Locality Sensitive Hashing) object.\n",
        "    lsh = ds.MinHashLSH(threshold=LSH_THRESHOLD, num_perm=NUM_PERM)\n",
        "\n",
        "    # Insert each MinHash signature into the LSH index.\n",
        "    for i, mh in enumerate(minhashes):\n",
        "        lsh.insert(f\"doc_{i}\", mh)\n",
        "\n",
        "    # Initialize an empty dictionary to store the results of similar items.\n",
        "    # The keys will be document IDs, and the values will be lists of similar document IDs.\n",
        "    similar_dict: dict[str, list[str]] = {}\n",
        "\n",
        "    # Iterate through each review to find its similar documents in the LSH index.\n",
        "    for i in range(len(reviews)):\n",
        "        doc_id = f\"doc_{i}\"\n",
        "        # Query the LSH index with the MinHash signature of the current document to find potential similar documents.\n",
        "        result = lsh.query(minhashes[i])\n",
        "\n",
        "        # Filter the query results to exclude the document itself, as it will always be similar to itself.\n",
        "        similar_docs = [r for r in result if r != doc_id]\n",
        "\n",
        "        # If any similar documents are found for the current document, add them to the similar_dict.\n",
        "        if similar_docs:\n",
        "            similar_dict[doc_id] = similar_docs\n",
        "\n",
        "    return similar_dict"
      ],
      "metadata": {
        "id": "EJeE1AivkKVc"
      },
      "execution_count": null,
      "outputs": []
    },
    {
      "cell_type": "markdown",
      "source": [
        "**Compare diffrent thresholds and shingle sizes**"
      ],
      "metadata": {
        "id": "ZqNtvBC4CqZx"
      }
    },
    {
      "cell_type": "code",
      "source": [
        "def compare_similarity_methods(filepath: str, thresholds: list[float], shingles_list: list[int]) -> dict:\n",
        "    global LSH_THRESHOLD, SHINGLE_SIZE, NUM_PERM\n",
        "\n",
        "    results = {}\n",
        "\n",
        "    for threshold in thresholds:\n",
        "        for shingle_size in shingles_list:\n",
        "            LSH_THRESHOLD = threshold\n",
        "            SHINGLE_SIZE = shingle_size\n",
        "\n",
        "            similar_ds = finding_similar_items_ds(filepath)\n",
        "            similar_custom = finding_similar_items(filepath)\n",
        "\n",
        "            keys_ds = set(similar_ds.keys())\n",
        "            keys_custom = set(similar_custom.keys())\n",
        "            common_keys = keys_ds.intersection(keys_custom)\n",
        "\n",
        "            total_pairs_ds = sum(len(v) for v in similar_ds.values())\n",
        "            total_pairs_custom = sum(len(v) for v in similar_custom.values())\n",
        "\n",
        "            common_pairs = 0\n",
        "            for k in common_keys:\n",
        "                common_pairs += len(set(similar_ds[k]).intersection(set(similar_custom[k])))\n",
        "\n",
        "            results[(threshold, shingle_size)] = {\n",
        "                'num_docs_ds': len(keys_ds),\n",
        "                'num_docs_custom': len(keys_custom),\n",
        "                'common_docs': len(common_keys),\n",
        "                'pairs_ds': total_pairs_ds,\n",
        "                'pairs_custom': total_pairs_custom,\n",
        "                'common_pairs': common_pairs\n",
        "            }\n",
        "\n",
        "    return results\n",
        "\n",
        "\n",
        "def plot_similarity_comparison(results: dict):\n",
        "\n",
        "    thresholds = sorted(set(k[0] for k in results.keys()))\n",
        "    shingles = sorted(set(k[1] for k in results.keys()))\n",
        "\n",
        "\n",
        "    # Plot for number of docs with similar items (DS vs Custom)\n",
        "    plt.figure(1)\n",
        "    for shingle in shingles:\n",
        "        docs_ds = [results[(thresh, shingle)]['num_docs_ds'] for thresh in thresholds]\n",
        "        docs_custom = [results[(thresh, shingle)]['num_docs_custom'] for thresh in thresholds]\n",
        "\n",
        "        plt.plot(thresholds, docs_ds, marker='o', label=f'DS docs, Shingle={shingle}')\n",
        "        plt.plot(thresholds, docs_custom, marker='x', linestyle='--', label=f'Custom docs, Shingle={shingle}')\n",
        "\n",
        "    plt.xlabel(\"Threshold\")\n",
        "    plt.ylabel(\"Number of documents\")\n",
        "    plt.legend()\n",
        "    plt.grid(True)\n",
        "\n",
        "    # Plot for number of similar pairs found\n",
        "    plt.figure(2)\n",
        "    for shingle in shingles:\n",
        "        pairs_ds = [results[(thresh, shingle)]['pairs_ds'] for thresh in thresholds]\n",
        "        pairs_custom = [results[(thresh, shingle)]['pairs_custom'] for thresh in thresholds]\n",
        "        common_pairs = [results[(thresh, shingle)]['common_pairs'] for thresh in thresholds]\n",
        "\n",
        "        plt.plot(thresholds, pairs_ds, marker='o', label=f'DS pairs, Shingle={shingle}')\n",
        "        plt.plot(thresholds, pairs_custom, marker='x', linestyle='--', label=f'Custom pairs, Shingle={shingle}')\n",
        "        plt.plot(thresholds, common_pairs, marker='s', linestyle=':', label=f'Common pairs, Shingle={shingle}')\n",
        "\n",
        "    plt.xlabel(\"Threshold\")\n",
        "    plt.ylabel(\"Number of pairs\")\n",
        "    plt.legend()\n",
        "    plt.grid(True)\n",
        "\n",
        "    plt.tight_layout()\n",
        "    plt.show()\n"
      ],
      "metadata": {
        "id": "9hMn0GcAQLG4"
      },
      "execution_count": null,
      "outputs": []
    },
    {
      "cell_type": "code",
      "source": [
        "thresholds = [0.3, 0.5, 0.7, 0.9]\n",
        "shingles = [3, 5, 7]\n",
        "\n",
        "results = compare_similarity_methods(\"Books_rating.csv\", thresholds, shingles)\n"
      ],
      "metadata": {
        "colab": {
          "base_uri": "https://localhost:8080/"
        },
        "collapsed": true,
        "id": "OM75g44cQZJp",
        "outputId": "f2c8f2be-42b7-46b6-eb71-40ce117c75f2"
      },
      "execution_count": null,
      "outputs": [
        {
          "output_type": "stream",
          "name": "stderr",
          "text": [
            "100%|██████████| 1000/1000 [00:03<00:00, 273.12it/s]\n",
            "100%|██████████| 1000/1000 [00:17<00:00, 56.87it/s]\n",
            "100%|██████████| 1000/1000 [00:03<00:00, 258.15it/s]\n",
            "100%|██████████| 1000/1000 [00:19<00:00, 51.31it/s]\n",
            "100%|██████████| 1000/1000 [00:06<00:00, 156.74it/s]\n",
            "100%|██████████| 1000/1000 [00:17<00:00, 57.79it/s]\n",
            "100%|██████████| 1000/1000 [00:03<00:00, 272.50it/s]\n",
            "100%|██████████| 1000/1000 [00:17<00:00, 57.09it/s]\n",
            "100%|██████████| 1000/1000 [00:06<00:00, 154.00it/s]\n",
            "100%|██████████| 1000/1000 [00:17<00:00, 57.26it/s]\n",
            "100%|██████████| 1000/1000 [00:03<00:00, 282.30it/s]\n",
            "100%|██████████| 1000/1000 [00:17<00:00, 57.72it/s]\n",
            "100%|██████████| 1000/1000 [00:04<00:00, 216.23it/s]\n",
            "100%|██████████| 1000/1000 [00:18<00:00, 53.75it/s]\n",
            "100%|██████████| 1000/1000 [00:03<00:00, 280.52it/s]\n",
            "100%|██████████| 1000/1000 [00:23<00:00, 42.14it/s]\n",
            "100%|██████████| 1000/1000 [00:06<00:00, 154.01it/s]\n",
            "100%|██████████| 1000/1000 [00:17<00:00, 56.68it/s]\n",
            "100%|██████████| 1000/1000 [00:03<00:00, 271.80it/s]\n",
            "100%|██████████| 1000/1000 [00:17<00:00, 56.18it/s]\n",
            "100%|██████████| 1000/1000 [00:04<00:00, 219.71it/s]\n",
            "100%|██████████| 1000/1000 [00:18<00:00, 54.59it/s]\n",
            "100%|██████████| 1000/1000 [00:03<00:00, 256.28it/s]\n",
            "100%|██████████| 1000/1000 [00:17<00:00, 57.50it/s]\n"
          ]
        }
      ]
    },
    {
      "cell_type": "code",
      "source": [
        "plot_similarity_comparison(results)"
      ],
      "metadata": {
        "colab": {
          "base_uri": "https://localhost:8080/",
          "height": 919
        },
        "id": "AE_wWKv4XAR0",
        "outputId": "d3dc4ef7-b807-4896-8891-edf7e7aeeb11"
      },
      "execution_count": null,
      "outputs": [
        {
          "output_type": "display_data",
          "data": {
            "text/plain": [
              "<Figure size 640x480 with 1 Axes>"
            ],
            "image/png": "[encoded data removed]"
          },
          "metadata": {}
        },
        {
          "output_type": "display_data",
          "data": {
            "text/plain": [
              "<Figure size 640x480 with 1 Axes>"
            ],
            "image/png": "[encoded data removed]"
          },
          "metadata": {}
        }
      ]
    }
  ],
  "metadata": {
    "colab": {
      "provenance": [],
      "authorship_tag": "ABX9TyNmaIf2bywEF5WrcaDqVNa6",
      "include_colab_link": true
    },
    "kernelspec": {
      "display_name": "Python 3",
      "name": "python3"
    },
    "language_info": {
      "name": "python"
    }
  },
  "nbformat": 4,
  "nbformat_minor": 0
}