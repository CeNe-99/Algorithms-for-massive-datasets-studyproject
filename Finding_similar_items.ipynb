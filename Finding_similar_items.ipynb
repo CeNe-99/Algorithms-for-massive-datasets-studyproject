{
  "nbformat": 4,
  "nbformat_minor": 0,
  "metadata": {
    "colab": {
      "provenance": [],
      "authorship_tag": "ABX9TyPxLqVZXYk6fbDXTaeMny8I",
      "include_colab_link": true
    },
    "kernelspec": {
      "name": "python3",
      "display_name": "Python 3"
    },
    "language_info": {
      "name": "python"
    }
  },
  "cells": [
    {
      "cell_type": "markdown",
      "metadata": {
        "id": "view-in-github",
        "colab_type": "text"
      },
      "source": [
        "<a href=\"https://colab.research.google.com/github/CeNe-99/Algorithms-for-massive-datasets-studyproject/blob/main/Finding_similar_items.ipynb\" target=\"_parent\"><img src=\"https://colab.research.google.com/assets/colab-badge.svg\" alt=\"Open In Colab\"/></a>"
      ]
    },
    {
      "cell_type": "markdown",
      "source": [
        "Downloading the dataset and unzip it."
      ],
      "metadata": {
        "id": "KIklkS46rFD3"
      }
    },
    {
      "cell_type": "code",
      "execution_count": null,
      "metadata": {
        "id": "ocsf_IcThrwb",
        "outputId": "312af243-500e-4f1d-b171-f5095f860206",
        "colab": {
          "base_uri": "https://localhost:8080/"
        }
      },
      "outputs": [
        {
          "output_type": "stream",
          "name": "stdout",
          "text": [
            "Dataset URL: https://www.kaggle.com/datasets/mohamedbakhet/amazon-books-reviews\n",
            "License(s): CC0-1.0\n",
            "User cancelled operation\n",
            "Archive:  amazon-books-reviews.zip\n",
            "replace Books_rating.csv? [y]es, [n]o, [A]ll, [N]one, [r]ename: "
          ]
        }
      ],
      "source": [
        "import os\n",
        "import json\n",
        "with open(\"kaggle.json\") as f:\n",
        "    data = json.load(f)\n",
        "\n",
        "os.environ['KAGGLE_USERNAME'] = data['username']\n",
        "os.environ['KAGGLE_KEY'] = data['key']\n",
        "!kaggle datasets download -d mohamedbakhet/amazon-books-reviews\n",
        "!unzip amazon-books-reviews.zip\n"
      ]
    },
    {
      "cell_type": "code",
      "source": [],
      "metadata": {
        "id": "wkoCEZyxrPKC"
      },
      "execution_count": null,
      "outputs": []
    }
  ]
}